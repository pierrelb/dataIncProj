{
 "cells": [
  {
   "cell_type": "code",
   "execution_count": 17,
   "metadata": {
    "collapsed": true
   },
   "outputs": [],
   "source": [
    "%matplotlib inline\n",
    "import matplotlib.pyplot as plt\n",
    "import seaborn as sns\n",
    "matplotlib.rcParams['savefig.dpi'] = 2 * matplotlib.rcParams['savefig.dpi']"
   ]
  },
  {
   "cell_type": "code",
   "execution_count": 28,
   "metadata": {
    "collapsed": true
   },
   "outputs": [],
   "source": [
    "import locale\n",
    "import calendar\n",
    "import pandas as pd\n",
    "import numpy as np"
   ]
  },
  {
   "cell_type": "code",
   "execution_count": 3,
   "metadata": {
    "collapsed": true
   },
   "outputs": [],
   "source": [
    "# index\n",
    "df_tranfer = pd.read_csv(\"record_transfers.csv\")\n",
    "locale.setlocale(locale.LC_NUMERIC, '')\n",
    "df_tranfer['fee_pounds'] = df_tranfer.fee_pounds.apply(locale.atof)\n",
    "#df_tranfer['yr'] vs df_tranfer['fee_pounds']"
   ]
  },
  {
   "cell_type": "code",
   "execution_count": 4,
   "metadata": {
    "collapsed": true
   },
   "outputs": [],
   "source": [
    "# league data\n",
    "df_rank = pd.read_csv('wc_rankings.csv')\n",
    "# Germany includes West (not East) Germany in their footballing history\n",
    "df_rank = df_rank.replace(to_replace=\"West Germany\", value=\"Germany\")\n",
    "\n",
    "team_avg_ranking = df_rank.groupby('team').ranking.mean().to_frame()\n",
    "team_num_wc = df_rank.team.value_counts().head(50).to_frame()\n",
    "        \n",
    "df_team_rank = team_avg_ranking.join(team_num_wc)\n",
    "df_team_rank = df_team_rank.dropna()\n",
    "# df_team_rank.team, df_team_rank.ranking"
   ]
  },
  {
   "cell_type": "code",
   "execution_count": 7,
   "metadata": {
    "collapsed": true
   },
   "outputs": [],
   "source": [
    "df_squads = pd.read_csv('wc_squads.csv')\n",
    "grouped = df_squads.groupby('WC_Year') # Why groupby?\n",
    "club_country = df_squads.Club_Country.unique()\n",
    "club_country.sort()\n",
    "df_clb_ctry = pd.DataFrame({\"club_country\":club_country})\n",
    "df_clb_ctry = df_clb_ctry.set_index(\"club_country\")"
   ]
  },
  {
   "cell_type": "code",
   "execution_count": 8,
   "metadata": {
    "collapsed": true
   },
   "outputs": [],
   "source": [
    "# for year in df.WC_Year.unique():\n",
    "#     country_to_club = grouped.Club_Country.value_counts()[year] / grouped.Country.value_counts()[year]\n",
    "#     df_clb_ctry = df_clb_ctry.join(country_to_club.to_frame(year))"
   ]
  },
  {
   "cell_type": "code",
   "execution_count": 9,
   "metadata": {
    "collapsed": true
   },
   "outputs": [],
   "source": [
    "df_clb_ctry = df_clb_ctry.fillna(0) # If NaN, country league not represented at the world cup\n",
    "df_clb_ctry = df_clb_ctry.T"
   ]
  },
  {
   "cell_type": "code",
   "execution_count": 10,
   "metadata": {
    "collapsed": true
   },
   "outputs": [],
   "source": [
    "# take the top 11 countries and plot\n",
    "# for num, country in enumerate(df_clb_ctry.sum().sort_values(ascending=False).head(11).index):\n",
    "    # plot df_clb_ctry.index vs df_clb_ctry[country]"
   ]
  },
  {
   "cell_type": "code",
   "execution_count": 14,
   "metadata": {
    "collapsed": false
   },
   "outputs": [],
   "source": [
    "df_league_data = pd.read_csv(\"top_five_leagues.csv\")\n",
    "df_expats = df_league_data[df_league_data.nation!=df_league_data.nationality]"
   ]
  },
  {
   "cell_type": "code",
   "execution_count": 15,
   "metadata": {
    "collapsed": true
   },
   "outputs": [],
   "source": [
    "for season in df_expats.season.unique():\n",
    "    nationality_expats = df_expats.groupby('season').nationality.value_counts()[season].head(10)\n",
    "    nation_expats = df_expats.groupby('season').nation.value_counts()[season]"
   ]
  },
  {
   "cell_type": "code",
   "execution_count": 35,
   "metadata": {
    "collapsed": false
   },
   "outputs": [
    {
     "data": {
      "text/plain": [
       "([<matplotlib.axis.XTick at 0x114bf0990>,\n",
       "  <matplotlib.axis.XTick at 0x11629c2d0>,\n",
       "  <matplotlib.axis.XTick at 0x11548ed10>,\n",
       "  <matplotlib.axis.XTick at 0x1150dda90>,\n",
       "  <matplotlib.axis.XTick at 0x114f7e2d0>],\n",
       " <a list of 5 Text xticklabel objects>)"
      ]
     },
     "execution_count": 35,
     "metadata": {},
     "output_type": "execute_result"
    },
    {
     "data": {
      "image/png": "[encoded data removed]",
      "text/plain": [
       "<matplotlib.figure.Figure at 0x11548ee10>"
      ]
     },
     "metadata": {},
     "output_type": "display_data"
    }
   ],
   "source": [
    "# bar plot nationality_expats\n",
    "bar_plt = plt.bar(np.arange(5), nation_expats.values, color=\"blue\")\n",
    "plt.xticks(np.arange(5), tuple(nation_expats.index))"
   ]
  },
  {
   "cell_type": "code",
   "execution_count": null,
   "metadata": {
    "collapsed": true
   },
   "outputs": [],
   "source": [
    "# player data"
   ]
  },
  {
   "cell_type": "code",
   "execution_count": null,
   "metadata": {
    "collapsed": true
   },
   "outputs": [],
   "source": [
    "# Create a mapping of month number to string abbreviation\n",
    "month_map = {k: v for k,v in enumerate(calendar.month_abbr)}\n",
    "\n",
    "# convert date of birth column to datetime\n",
    "df_squads.DoB = pd.to_datetime(df_squads.DoB) \n",
    "# extract player birth month number\n",
    "df_squads['birth_month'] = df_squads.DoB.map(lambda x: x.month) \n",
    "# create data from of birth month data\n",
    "df_mth = df_squads.birth_month.value_counts().sort_index() \n",
    "# convert birth month number to month (\"01\" to \"Jan\"'\")\n",
    "df_mth.index = df_mth.index.map(lambda x: month_map[x]) "
   ]
  },
  {
   "cell_type": "code",
   "execution_count": 12,
   "metadata": {
    "collapsed": false
   },
   "outputs": [],
   "source": [
    "# Investigate team average age\n",
    "grouped = df_squads.groupby('WC_Year')\n",
    "avg_age = df_squads.groupby('WC_Year').Age.mean().to_frame()\n",
    "# line plot avg_age.index vs avg_age.Age.values\n",
    "# Possibly look at age and age variance by team, against team performance"
   ]
  },
  {
   "cell_type": "code",
   "execution_count": null,
   "metadata": {
    "collapsed": true
   },
   "outputs": [],
   "source": []
  }
 ],
 "metadata": {
  "kernelspec": {
   "display_name": "Python 2",
   "language": "python",
   "name": "python2"
  },
  "language_info": {
   "codemirror_mode": {
    "name": "ipython",
    "version": 2
   },
   "file_extension": ".py",
   "mimetype": "text/x-python",
   "name": "python",
   "nbconvert_exporter": "python",
   "pygments_lexer": "ipython2",
   "version": "2.7.10"
  }
 },
 "nbformat": 4,
 "nbformat_minor": 0
}
